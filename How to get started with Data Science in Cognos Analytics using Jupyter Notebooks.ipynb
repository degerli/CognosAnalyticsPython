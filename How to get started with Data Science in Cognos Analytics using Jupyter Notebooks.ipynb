{
 "cells": [
  {
   "cell_type": "code",
   "execution_count": 36,
   "metadata": {},
   "outputs": [
    {
     "name": "stdout",
     "output_type": "stream",
     "text": [
      "Hello World!\n"
     ]
    }
   ],
   "source": [
    "print('Hello World!')"
   ]
  },
  {
   "cell_type": "markdown",
   "metadata": {},
   "source": [
    "# Import Data"
   ]
  },
  {
   "cell_type": "code",
   "execution_count": null,
   "metadata": {},
   "outputs": [],
   "source": [
    "data = CADataConnector.read_data(path=\".my_folders/Default.csv\")"
   ]
  },
  {
   "cell_type": "code",
   "execution_count": null,
   "metadata": {},
   "outputs": [],
   "source": [
    "data.head()"
   ]
  },
  {
   "cell_type": "markdown",
   "metadata": {},
   "source": [
    "# Import Modules"
   ]
  },
  {
   "cell_type": "code",
   "execution_count": null,
   "metadata": {},
   "outputs": [],
   "source": [
    "import pandas as pd\n",
    "from sklearn.ensemble import RandomForestClassifier, GradientBoostingClassifier\n",
    "from sklearn.preprocessing import StandardScaler\n",
    "from sklearn.model_selection import train_test_split, GridSearchCV\n",
    "from sklearn.pipeline import make_pipeline"
   ]
  },
  {
   "cell_type": "markdown",
   "metadata": {},
   "source": [
    "# Modelling"
   ]
  },
  {
   "cell_type": "code",
   "execution_count": null,
   "metadata": {},
   "outputs": [],
   "source": [
    "# One hot encode data\n",
    "one_hot_cols = ['Default', 'Partner', 'Dependents', 'Phone Service', 'Multiple Lines', 'Internet Service', \\\n",
    "               'Online Security', 'Online Backup', 'Device Protection', 'Tech Support', 'Streaming TV', \\\n",
    "               'Streaming Movies', 'Paperless Billing']\n",
    "\n",
    "for col in one_hot_cols:\n",
    "    data[col] = data[col].apply(lambda x: 1 if x == \"Yes\" else 0)\n",
    "\n",
    "# Create X and y vars\n",
    "X = pd.get_dummies(data.drop(['Customer ID', 'Default'], axis=1))    \n",
    "X['Total Charges'].fillna(0, inplace=True)\n",
    "y = data['Default']\n",
    "\n",
    "# Create train test splits\n",
    "X_train, X_test, y_train, y_test = train_test_split(X, y, test_size=0.3, random_state=1234)\n",
    "\n",
    "# Build pipelines\n",
    "pipelines = {}\n",
    "pipelines['rf'] = make_pipeline(StandardScaler(), RandomForestClassifier(random_state=1234))\n",
    "pipelines['gb'] = make_pipeline(StandardScaler(), GradientBoostingClassifier(random_state=1234))\n",
    "\n",
    "# Setup hyperparameters\n",
    "hyperparams = {}\n",
    "hyperparams['rf'] = {'randomforestclassifier__n_estimators':[100,200,300]}\n",
    "hyperparams['gb'] = {'gradientboostingclassifier__n_estimators':[100,200,300]}\n",
    "\n",
    "# Fit models\n",
    "fit_models = {}\n",
    "for algo, pipeline in pipelines.items():\n",
    "    model = GridSearchCV(pipeline, hyperparams[algo], n_jobs=-1, cv=10)\n",
    "    model.fit(X_train, y_train)\n",
    "    fit_models[algo] = model"
   ]
  },
  {
   "cell_type": "markdown",
   "metadata": {},
   "source": [
    "# Evaluate Models"
   ]
  },
  {
   "cell_type": "code",
   "execution_count": null,
   "metadata": {},
   "outputs": [],
   "source": [
    "from sklearn.metrics import f1_score, precision_score, recall_score, roc_curve"
   ]
  },
  {
   "cell_type": "code",
   "execution_count": null,
   "metadata": {},
   "outputs": [],
   "source": [
    "for algorithm, model in fit_models.items():\n",
    "    yhat = model.predict(X_test)\n",
    "    print(\"{} Metrics - F1: {}, Precision: {}, Recall: {}\".format(algorithm, str(f1_score(y_test, yhat)), str(precision_score(y_test, yhat)), str(recall_score(y_test, yhat))))"
   ]
  },
  {
   "cell_type": "code",
   "execution_count": null,
   "metadata": {},
   "outputs": [],
   "source": [
    "from matplotlib import pyplot as plt\n",
    "fpr, tpr, _ = roc_curve(y_test.values, fit_models['rf'].predict(X_test))\n",
    "plt.plot(fpr, tpr, marker='.', label='Random Forest')\n",
    "\n",
    "fpr, tpr, _ = roc_curve(y_test.values, fit_models['gb'].predict(X_test))\n",
    "plt.plot(fpr, tpr, marker='.', label='Gradient Boosted')\n",
    "# axis labels\n",
    "plt.xlabel('False Positive Rate')\n",
    "plt.ylabel('True Positive Rate')\n",
    "# show the legend\n",
    "plt.legend()\n",
    "# show the plot\n",
    "plt.show()"
   ]
  }
 ],
 "metadata": {
  "kernelspec": {
   "display_name": "Python 3",
   "language": "python",
   "name": "python3"
  },
  "language_info": {
   "codemirror_mode": {
    "name": "ipython",
    "version": 3
   },
   "file_extension": ".py",
   "mimetype": "text/x-python",
   "name": "python",
   "nbconvert_exporter": "python",
   "pygments_lexer": "ipython3",
   "version": "3.7.3"
  }
 },
 "nbformat": 4,
 "nbformat_minor": 2
}
